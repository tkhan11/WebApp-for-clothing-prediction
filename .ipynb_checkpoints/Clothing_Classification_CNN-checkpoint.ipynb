{
 "cells": [
  {
   "cell_type": "markdown",
   "metadata": {
    "colab_type": "text",
    "id": "lAqvSV-zFm19"
   },
   "source": [
    "### Clothing_Apparel_Classification"
   ]
  },
  {
   "cell_type": "code",
   "execution_count": 0,
   "metadata": {
    "colab": {
     "base_uri": "https://localhost:8080/",
     "height": 80
    },
    "colab_type": "code",
    "id": "NbjOWtxJFm2N",
    "outputId": "552d6023-d4de-4630-999b-67f6f858fb28"
   },
   "outputs": [
    {
     "name": "stderr",
     "output_type": "stream",
     "text": [
      "Using TensorFlow backend.\n"
     ]
    },
    {
     "data": {
      "text/html": [
       "<p style=\"color: red;\">\n",
       "The default version of TensorFlow in Colab will soon switch to TensorFlow 2.x.<br>\n",
       "We recommend you <a href=\"https://www.tensorflow.org/guide/migrate\" target=\"_blank\">upgrade</a> now \n",
       "or ensure your notebook will continue to use TensorFlow 1.x via the <code>%tensorflow_version 1.x</code> magic:\n",
       "<a href=\"https://colab.research.google.com/notebooks/tensorflow_version.ipynb\" target=\"_blank\">more info</a>.</p>\n"
      ],
      "text/plain": [
       "<IPython.core.display.HTML object>"
      ]
     },
     "metadata": {
      "tags": []
     },
     "output_type": "display_data"
    }
   ],
   "source": [
    "#Import necessary Libraries\n",
    "\n",
    "import numpy as np\n",
    "from keras.datasets import fashion_mnist"
   ]
  },
  {
   "cell_type": "code",
   "execution_count": 0,
   "metadata": {
    "colab": {
     "base_uri": "https://localhost:8080/",
     "height": 153
    },
    "colab_type": "code",
    "id": "9tlPlQtdG1Ev",
    "outputId": "b385b12e-7ec1-42a3-c582-2d6b85854a33"
   },
   "outputs": [
    {
     "name": "stdout",
     "output_type": "stream",
     "text": [
      "Downloading data from http://fashion-mnist.s3-website.eu-central-1.amazonaws.com/train-labels-idx1-ubyte.gz\n",
      "32768/29515 [=================================] - 0s 9us/step\n",
      "Downloading data from http://fashion-mnist.s3-website.eu-central-1.amazonaws.com/train-images-idx3-ubyte.gz\n",
      "26427392/26421880 [==============================] - 4s 0us/step\n",
      "Downloading data from http://fashion-mnist.s3-website.eu-central-1.amazonaws.com/t10k-labels-idx1-ubyte.gz\n",
      "8192/5148 [===============================================] - 0s 0us/step\n",
      "Downloading data from http://fashion-mnist.s3-website.eu-central-1.amazonaws.com/t10k-images-idx3-ubyte.gz\n",
      "4423680/4422102 [==============================] - 2s 1us/step\n"
     ]
    }
   ],
   "source": [
    "# Load fashion MNIST dataset\n",
    "(x_train, y_train), (x_test, y_test) = fashion_mnist.load_data()"
   ]
  },
  {
   "cell_type": "code",
   "execution_count": 0,
   "metadata": {
    "colab": {
     "base_uri": "https://localhost:8080/",
     "height": 136
    },
    "colab_type": "code",
    "id": "qbs2QA6qFm26",
    "outputId": "be72fb98-843d-49db-85c4-8889e6f0bf3a"
   },
   "outputs": [
    {
     "name": "stdout",
     "output_type": "stream",
     "text": [
      "Number of samples/observations in training data: 60000\n",
      "Number of labels in training data: 60000\n",
      "Dimensions of a single image in x_train:(28, 28)\n",
      "-------------------------------------------------------------\n",
      "Number of samples/observations in test data: 10000\n",
      "Number of labels in test data: 10000\n",
      "Dimensions of single image in x_test:(28, 28)\n"
     ]
    }
   ],
   "source": [
    "# Explore the dataset\n",
    "# Check the shape and size of x_train, x_test, y_train, y_test\n",
    "print (\"Number of samples/observations in training data: \" + str(len(x_train)))\n",
    "print (\"Number of labels in training data: \" + str(len(y_train)))\n",
    "print (\"Dimensions of a single image in x_train:\" + str(x_train[0].shape))\n",
    "print(\"-------------------------------------------------------------\")\n",
    "print (\"Number of samples/observations in test data: \" + str(len(x_test)))\n",
    "print (\"Number of labels in test data: \" + str(len(y_test)))\n",
    "print (\"Dimensions of single image in x_test:\" + str(x_test[0].shape))\n"
   ]
  },
  {
   "cell_type": "markdown",
   "metadata": {
    "colab_type": "text",
    "id": "hdXkB2axFm3N"
   },
   "source": [
    "### View sample images"
   ]
  },
  {
   "cell_type": "code",
   "execution_count": 0,
   "metadata": {
    "colab": {
     "base_uri": "https://localhost:8080/",
     "height": 267
    },
    "colab_type": "code",
    "id": "h7IrFmtbFm3Q",
    "outputId": "253204bc-a740-4d7b-d3c0-f7e6db913c16"
   },
   "outputs": [
    {
     "data": {
      "image/png": "[encoded data removed]",
      "text/plain": [
       "<Figure size 432x288 with 5 Axes>"
      ]
     },
     "metadata": {
      "tags": []
     },
     "output_type": "display_data"
    }
   ],
   "source": [
    "# Visualization library to visualize images \n",
    "import matplotlib.pyplot as plt\n",
    "\n",
    "# Plotting 5 images, Subplot arugments represent nrows, ncols and index\n",
    "# Color map is set to grey since our image dataset is grayscale\n",
    "plt.subplot(231)\n",
    "random_num = np.random.randint(0,len(x_train))\n",
    "plt.imshow(x_train[random_num], cmap=plt.get_cmap('gray'))\n",
    "\n",
    "plt.subplot(232)\n",
    "random_num = np.random.randint(0,len(x_train))\n",
    "plt.imshow(x_train[random_num], cmap=plt.get_cmap('gray'))\n",
    "\n",
    "plt.subplot(233)\n",
    "random_num = np.random.randint(0,len(x_train))\n",
    "plt.imshow(x_train[random_num], cmap=plt.get_cmap('gray'))\n",
    "\n",
    "plt.subplot(234)\n",
    "random_num = np.random.randint(0,len(x_train))\n",
    "plt.imshow(x_train[random_num], cmap=plt.get_cmap('gray'))\n",
    "\n",
    "plt.subplot(235)\n",
    "random_num = np.random.randint(0,len(x_train))\n",
    "plt.imshow(x_train[random_num], cmap=plt.get_cmap('gray'))\n",
    "\n",
    "\n",
    "# Visualize the images\n",
    "plt.show()"
   ]
  },
  {
   "cell_type": "markdown",
   "metadata": {
    "colab_type": "text",
    "id": "2kOiUxZ1Fm3f"
   },
   "source": [
    "### Let's create our model"
   ]
  },
  {
   "cell_type": "code",
   "execution_count": 0,
   "metadata": {
    "colab": {
     "base_uri": "https://localhost:8080/",
     "height": 1000
    },
    "colab_type": "code",
    "id": "YdCR3JawFm3k",
    "outputId": "41a5a6f6-41f9-490d-dc8b-c37b94713725"
   },
   "outputs": [
    {
     "name": "stdout",
     "output_type": "stream",
     "text": [
      "x_train shape: (60000, 28, 28, 1)\n",
      "60000 train samples\n",
      "10000 test samples\n",
      "Number of Classes: 10\n",
      "WARNING:tensorflow:From /usr/local/lib/python3.6/dist-packages/keras/backend/tensorflow_backend.py:66: The name tf.get_default_graph is deprecated. Please use tf.compat.v1.get_default_graph instead.\n",
      "\n",
      "WARNING:tensorflow:From /usr/local/lib/python3.6/dist-packages/keras/backend/tensorflow_backend.py:541: The name tf.placeholder is deprecated. Please use tf.compat.v1.placeholder instead.\n",
      "\n",
      "WARNING:tensorflow:From /usr/local/lib/python3.6/dist-packages/keras/backend/tensorflow_backend.py:4432: The name tf.random_uniform is deprecated. Please use tf.random.uniform instead.\n",
      "\n",
      "WARNING:tensorflow:From /usr/local/lib/python3.6/dist-packages/keras/backend/tensorflow_backend.py:190: The name tf.get_default_session is deprecated. Please use tf.compat.v1.get_default_session instead.\n",
      "\n",
      "WARNING:tensorflow:From /usr/local/lib/python3.6/dist-packages/keras/backend/tensorflow_backend.py:197: The name tf.ConfigProto is deprecated. Please use tf.compat.v1.ConfigProto instead.\n",
      "\n",
      "WARNING:tensorflow:From /usr/local/lib/python3.6/dist-packages/keras/backend/tensorflow_backend.py:203: The name tf.Session is deprecated. Please use tf.compat.v1.Session instead.\n",
      "\n",
      "WARNING:tensorflow:From /usr/local/lib/python3.6/dist-packages/keras/backend/tensorflow_backend.py:207: The name tf.global_variables is deprecated. Please use tf.compat.v1.global_variables instead.\n",
      "\n",
      "WARNING:tensorflow:From /usr/local/lib/python3.6/dist-packages/keras/backend/tensorflow_backend.py:216: The name tf.is_variable_initialized is deprecated. Please use tf.compat.v1.is_variable_initialized instead.\n",
      "\n",
      "WARNING:tensorflow:From /usr/local/lib/python3.6/dist-packages/keras/backend/tensorflow_backend.py:223: The name tf.variables_initializer is deprecated. Please use tf.compat.v1.variables_initializer instead.\n",
      "\n",
      "WARNING:tensorflow:From /usr/local/lib/python3.6/dist-packages/keras/backend/tensorflow_backend.py:2041: The name tf.nn.fused_batch_norm is deprecated. Please use tf.compat.v1.nn.fused_batch_norm instead.\n",
      "\n",
      "WARNING:tensorflow:From /usr/local/lib/python3.6/dist-packages/keras/backend/tensorflow_backend.py:148: The name tf.placeholder_with_default is deprecated. Please use tf.compat.v1.placeholder_with_default instead.\n",
      "\n",
      "WARNING:tensorflow:From /usr/local/lib/python3.6/dist-packages/keras/backend/tensorflow_backend.py:4267: The name tf.nn.max_pool is deprecated. Please use tf.nn.max_pool2d instead.\n",
      "\n",
      "WARNING:tensorflow:From /usr/local/lib/python3.6/dist-packages/keras/backend/tensorflow_backend.py:3733: calling dropout (from tensorflow.python.ops.nn_ops) with keep_prob is deprecated and will be removed in a future version.\n",
      "Instructions for updating:\n",
      "Please use `rate` instead of `keep_prob`. Rate should be set to `rate = 1 - keep_prob`.\n",
      "WARNING:tensorflow:From /usr/local/lib/python3.6/dist-packages/keras/optimizers.py:793: The name tf.train.Optimizer is deprecated. Please use tf.compat.v1.train.Optimizer instead.\n",
      "\n",
      "WARNING:tensorflow:From /usr/local/lib/python3.6/dist-packages/keras/backend/tensorflow_backend.py:3576: The name tf.log is deprecated. Please use tf.math.log instead.\n",
      "\n",
      "Model: \"sequential_1\"\n",
      "_________________________________________________________________\n",
      "Layer (type)                 Output Shape              Param #   \n",
      "=================================================================\n",
      "conv2d_1 (Conv2D)            (None, 26, 26, 32)        320       \n",
      "_________________________________________________________________\n",
      "batch_normalization_1 (Batch (None, 26, 26, 32)        128       \n",
      "_________________________________________________________________\n",
      "conv2d_2 (Conv2D)            (None, 24, 24, 64)        18496     \n",
      "_________________________________________________________________\n",
      "batch_normalization_2 (Batch (None, 24, 24, 64)        256       \n",
      "_________________________________________________________________\n",
      "max_pooling2d_1 (MaxPooling2 (None, 12, 12, 64)        0         \n",
      "_________________________________________________________________\n",
      "dropout_1 (Dropout)          (None, 12, 12, 64)        0         \n",
      "_________________________________________________________________\n",
      "flatten_1 (Flatten)          (None, 9216)              0         \n",
      "_________________________________________________________________\n",
      "dense_1 (Dense)              (None, 128)               1179776   \n",
      "_________________________________________________________________\n",
      "batch_normalization_3 (Batch (None, 128)               512       \n",
      "_________________________________________________________________\n",
      "dropout_2 (Dropout)          (None, 128)               0         \n",
      "_________________________________________________________________\n",
      "dense_2 (Dense)              (None, 10)                1290      \n",
      "=================================================================\n",
      "Total params: 1,200,778\n",
      "Trainable params: 1,200,330\n",
      "Non-trainable params: 448\n",
      "_________________________________________________________________\n",
      "None\n"
     ]
    }
   ],
   "source": [
    "#Import necessary keras specific libraries\n",
    "\n",
    "from keras.utils import np_utils\n",
    "import keras\n",
    "from keras.models import Sequential\n",
    "from keras.layers import Dense, Dropout, Flatten\n",
    "from keras.layers import Conv2D, MaxPooling2D, BatchNormalization\n",
    "from keras import backend as K\n",
    "\n",
    "# Setting Training Parameters like batch_size, epochs\n",
    "batch_size = 128\n",
    "epochs = 100\n",
    "\n",
    "# Storing the number of rows and columns\n",
    "img_rows = x_train[0].shape[0]\n",
    "img_cols = x_train[1].shape[0]\n",
    "\n",
    "''' Getting the data in the right 'shape' as required by Keras i.e. adding a 4th \n",
    "dimension to our data thereby changing the original image shape of (60000,28,28) \n",
    "to (60000,28,28,1)'''\n",
    "x_train = x_train.reshape(x_train.shape[0], img_rows, img_cols, 1)\n",
    "x_test = x_test.reshape(x_test.shape[0], img_rows, img_cols, 1)\n",
    "\n",
    "# Storing the shape of a single image \n",
    "input_shape = (img_rows, img_cols, 1)\n",
    "\n",
    "# Changing image type to float32 data type\n",
    "x_train = x_train.astype('float32')\n",
    "x_test = x_test.astype('float32')\n",
    "\n",
    "# Normalizing the data by changing the image pixel range from (0 to 255) to (0 to 1)\n",
    "x_train /= 255\n",
    "x_test /= 255\n",
    "\n",
    "# Performing one hot encoding\n",
    "y_train = np_utils.to_categorical(y_train)\n",
    "y_test = np_utils.to_categorical(y_test)\n",
    "\n",
    "# Calculate the number of classes and number of pixels \n",
    "num_classes = y_test.shape[1]\n",
    "num_pixels = x_train.shape[1] * x_train.shape[2]\n",
    "\n",
    "# Create CNN model\n",
    "model = Sequential()\n",
    "\n",
    "model.add(Conv2D(32, kernel_size=(3, 3),\n",
    "                 activation='relu',\n",
    "                 input_shape=input_shape))\n",
    "model.add(BatchNormalization())\n",
    "\n",
    "model.add(Conv2D(64, (3, 3), activation='relu'))\n",
    "model.add(BatchNormalization())\n",
    "\n",
    "model.add(MaxPooling2D(pool_size=(2, 2)))\n",
    "model.add(Dropout(0.25))\n",
    "\n",
    "model.add(Flatten())\n",
    "model.add(Dense(128, activation='relu'))\n",
    "model.add(BatchNormalization())\n",
    "\n",
    "model.add(Dropout(0.5))\n",
    "model.add(Dense(num_classes, activation='softmax'))\n",
    "\n",
    "model.compile(loss = 'categorical_crossentropy',\n",
    "              optimizer = keras.optimizers.Adadelta(),\n",
    "              metrics = ['accuracy'])\n",
    "\n",
    "print(model.summary())"
   ]
  },
  {
   "cell_type": "markdown",
   "metadata": {
    "colab_type": "text",
    "id": "qzoS-5OcFm3w"
   },
   "source": [
    "### Let's train our model"
   ]
  },
  {
   "cell_type": "code",
   "execution_count": 0,
   "metadata": {
    "colab": {
     "base_uri": "https://localhost:8080/",
     "height": 1000
    },
    "colab_type": "code",
    "id": "bACuyHMEFm3y",
    "outputId": "52115174-f497-4ff2-c322-b4fc704d5833"
   },
   "outputs": [
    {
     "name": "stdout",
     "output_type": "stream",
     "text": [
      "WARNING:tensorflow:From /usr/local/lib/python3.6/dist-packages/tensorflow_core/python/ops/math_grad.py:1424: where (from tensorflow.python.ops.array_ops) is deprecated and will be removed in a future version.\n",
      "Instructions for updating:\n",
      "Use tf.where in 2.0, which has the same broadcast rule as np.where\n",
      "WARNING:tensorflow:From /usr/local/lib/python3.6/dist-packages/keras/backend/tensorflow_backend.py:1033: The name tf.assign_add is deprecated. Please use tf.compat.v1.assign_add instead.\n",
      "\n",
      "WARNING:tensorflow:From /usr/local/lib/python3.6/dist-packages/keras/backend/tensorflow_backend.py:1020: The name tf.assign is deprecated. Please use tf.compat.v1.assign instead.\n",
      "\n",
      "Train on 60000 samples, validate on 10000 samples\n",
      "Epoch 1/100\n",
      "60000/60000 [==============================] - 16s 262us/step - loss: 0.4566 - acc: 0.8443 - val_loss: 0.3106 - val_acc: 0.8898\n",
      "Epoch 2/100\n",
      "60000/60000 [==============================] - 9s 146us/step - loss: 0.2915 - acc: 0.8955 - val_loss: 0.2612 - val_acc: 0.9045\n",
      "Epoch 3/100\n",
      "60000/60000 [==============================] - 9s 144us/step - loss: 0.2438 - acc: 0.9135 - val_loss: 0.2450 - val_acc: 0.9109\n",
      "Epoch 4/100\n",
      "60000/60000 [==============================] - 9s 145us/step - loss: 0.2139 - acc: 0.9233 - val_loss: 0.2584 - val_acc: 0.9096\n",
      "Epoch 5/100\n",
      "60000/60000 [==============================] - 9s 144us/step - loss: 0.1891 - acc: 0.9320 - val_loss: 0.2530 - val_acc: 0.9130\n",
      "Epoch 6/100\n",
      "60000/60000 [==============================] - 9s 144us/step - loss: 0.1740 - acc: 0.9374 - val_loss: 0.2451 - val_acc: 0.9146\n",
      "Epoch 7/100\n",
      "60000/60000 [==============================] - 9s 145us/step - loss: 0.1605 - acc: 0.9406 - val_loss: 0.2168 - val_acc: 0.9257\n",
      "Epoch 8/100\n",
      "60000/60000 [==============================] - 9s 145us/step - loss: 0.1459 - acc: 0.9470 - val_loss: 0.2170 - val_acc: 0.9243\n",
      "Epoch 9/100\n",
      "60000/60000 [==============================] - 9s 145us/step - loss: 0.1338 - acc: 0.9510 - val_loss: 0.2202 - val_acc: 0.9244\n",
      "Epoch 10/100\n",
      "60000/60000 [==============================] - 9s 145us/step - loss: 0.1238 - acc: 0.9550 - val_loss: 0.2347 - val_acc: 0.9253\n",
      "Epoch 11/100\n",
      "60000/60000 [==============================] - 9s 145us/step - loss: 0.1180 - acc: 0.9564 - val_loss: 0.2152 - val_acc: 0.9267\n",
      "Epoch 12/100\n",
      "60000/60000 [==============================] - 9s 145us/step - loss: 0.1113 - acc: 0.9596 - val_loss: 0.2399 - val_acc: 0.9269\n",
      "Epoch 13/100\n",
      "60000/60000 [==============================] - 9s 145us/step - loss: 0.1047 - acc: 0.9626 - val_loss: 0.2270 - val_acc: 0.9217\n",
      "Epoch 14/100\n",
      "60000/60000 [==============================] - 9s 145us/step - loss: 0.0981 - acc: 0.9645 - val_loss: 0.2295 - val_acc: 0.9215\n",
      "Epoch 15/100\n",
      "60000/60000 [==============================] - 9s 148us/step - loss: 0.0917 - acc: 0.9671 - val_loss: 0.2508 - val_acc: 0.9274\n",
      "Epoch 16/100\n",
      "60000/60000 [==============================] - 9s 150us/step - loss: 0.0873 - acc: 0.9685 - val_loss: 0.2677 - val_acc: 0.9297\n",
      "Epoch 17/100\n",
      "60000/60000 [==============================] - 9s 150us/step - loss: 0.0835 - acc: 0.9697 - val_loss: 0.3250 - val_acc: 0.9288\n",
      "Epoch 18/100\n",
      "60000/60000 [==============================] - 9s 150us/step - loss: 0.0793 - acc: 0.9717 - val_loss: 0.2194 - val_acc: 0.9272\n",
      "Epoch 19/100\n",
      "60000/60000 [==============================] - 9s 151us/step - loss: 0.0766 - acc: 0.9723 - val_loss: 0.2886 - val_acc: 0.9278\n",
      "Epoch 20/100\n",
      "60000/60000 [==============================] - 9s 151us/step - loss: 0.0729 - acc: 0.9739 - val_loss: 0.3249 - val_acc: 0.9290\n",
      "Epoch 21/100\n",
      "60000/60000 [==============================] - 9s 151us/step - loss: 0.0723 - acc: 0.9747 - val_loss: 0.2792 - val_acc: 0.9233\n",
      "Epoch 22/100\n",
      "60000/60000 [==============================] - 9s 151us/step - loss: 0.0689 - acc: 0.9748 - val_loss: 0.2832 - val_acc: 0.9258\n",
      "Epoch 23/100\n",
      "60000/60000 [==============================] - 9s 151us/step - loss: 0.0663 - acc: 0.9763 - val_loss: 0.2672 - val_acc: 0.9312\n",
      "Epoch 24/100\n",
      "60000/60000 [==============================] - 9s 150us/step - loss: 0.0643 - acc: 0.9769 - val_loss: 0.2486 - val_acc: 0.9235\n",
      "Epoch 25/100\n",
      "60000/60000 [==============================] - 9s 150us/step - loss: 0.0597 - acc: 0.9789 - val_loss: 0.2632 - val_acc: 0.9276\n",
      "Epoch 26/100\n",
      "60000/60000 [==============================] - 9s 152us/step - loss: 0.0558 - acc: 0.9806 - val_loss: 0.2486 - val_acc: 0.9287\n",
      "Epoch 27/100\n",
      "60000/60000 [==============================] - 9s 152us/step - loss: 0.0590 - acc: 0.9788 - val_loss: 0.2578 - val_acc: 0.9253\n",
      "Epoch 28/100\n",
      "60000/60000 [==============================] - 9s 149us/step - loss: 0.0570 - acc: 0.9791 - val_loss: 0.2721 - val_acc: 0.9315\n",
      "Epoch 29/100\n",
      "60000/60000 [==============================] - 9s 149us/step - loss: 0.0549 - acc: 0.9801 - val_loss: 0.2584 - val_acc: 0.9329\n",
      "Epoch 30/100\n",
      "60000/60000 [==============================] - 9s 150us/step - loss: 0.0531 - acc: 0.9811 - val_loss: 0.2308 - val_acc: 0.9249\n",
      "Epoch 31/100\n",
      "60000/60000 [==============================] - 9s 149us/step - loss: 0.0514 - acc: 0.9819 - val_loss: 0.2577 - val_acc: 0.9285\n",
      "Epoch 32/100\n",
      "60000/60000 [==============================] - 9s 149us/step - loss: 0.0488 - acc: 0.9822 - val_loss: 0.3385 - val_acc: 0.9332\n",
      "Epoch 33/100\n",
      "60000/60000 [==============================] - 9s 149us/step - loss: 0.0510 - acc: 0.9820 - val_loss: 0.3107 - val_acc: 0.9317\n",
      "Epoch 34/100\n",
      "60000/60000 [==============================] - 9s 149us/step - loss: 0.0468 - acc: 0.9838 - val_loss: 0.3252 - val_acc: 0.9304\n",
      "Epoch 35/100\n",
      "60000/60000 [==============================] - 9s 148us/step - loss: 0.0477 - acc: 0.9826 - val_loss: 0.3261 - val_acc: 0.9314\n",
      "Epoch 36/100\n",
      "60000/60000 [==============================] - 9s 149us/step - loss: 0.0459 - acc: 0.9832 - val_loss: 0.3555 - val_acc: 0.9312\n",
      "Epoch 37/100\n",
      "60000/60000 [==============================] - 9s 149us/step - loss: 0.0454 - acc: 0.9838 - val_loss: 0.2954 - val_acc: 0.9308\n",
      "Epoch 38/100\n",
      "60000/60000 [==============================] - 9s 148us/step - loss: 0.0435 - acc: 0.9847 - val_loss: 0.2902 - val_acc: 0.9275\n",
      "Epoch 39/100\n",
      "60000/60000 [==============================] - 9s 148us/step - loss: 0.0441 - acc: 0.9841 - val_loss: 0.2425 - val_acc: 0.9294\n",
      "Epoch 40/100\n",
      "60000/60000 [==============================] - 9s 147us/step - loss: 0.0432 - acc: 0.9847 - val_loss: 0.3200 - val_acc: 0.9320\n",
      "Epoch 41/100\n",
      "60000/60000 [==============================] - 9s 146us/step - loss: 0.0427 - acc: 0.9853 - val_loss: 0.3413 - val_acc: 0.9295\n",
      "Epoch 42/100\n",
      "60000/60000 [==============================] - 9s 146us/step - loss: 0.0406 - acc: 0.9859 - val_loss: 0.2875 - val_acc: 0.9280\n",
      "Epoch 43/100\n",
      "60000/60000 [==============================] - 9s 147us/step - loss: 0.0393 - acc: 0.9861 - val_loss: 0.2909 - val_acc: 0.9315\n",
      "Epoch 44/100\n",
      "60000/60000 [==============================] - 9s 146us/step - loss: 0.0404 - acc: 0.9859 - val_loss: 0.2942 - val_acc: 0.9316\n",
      "Epoch 45/100\n",
      "60000/60000 [==============================] - 9s 146us/step - loss: 0.0397 - acc: 0.9860 - val_loss: 0.3475 - val_acc: 0.9324\n",
      "Epoch 46/100\n",
      "60000/60000 [==============================] - 9s 147us/step - loss: 0.0376 - acc: 0.9871 - val_loss: 0.3034 - val_acc: 0.9318\n",
      "Epoch 47/100\n",
      "60000/60000 [==============================] - 9s 146us/step - loss: 0.0371 - acc: 0.9867 - val_loss: 0.4109 - val_acc: 0.9282\n",
      "Epoch 48/100\n",
      "60000/60000 [==============================] - 9s 145us/step - loss: 0.0390 - acc: 0.9862 - val_loss: 0.3660 - val_acc: 0.9342\n",
      "Epoch 49/100\n",
      "60000/60000 [==============================] - 9s 145us/step - loss: 0.0395 - acc: 0.9863 - val_loss: 0.4100 - val_acc: 0.9312\n",
      "Epoch 50/100\n",
      "60000/60000 [==============================] - 9s 146us/step - loss: 0.0373 - acc: 0.9872 - val_loss: 0.2971 - val_acc: 0.9317\n",
      "Epoch 51/100\n",
      "60000/60000 [==============================] - 9s 143us/step - loss: 0.0365 - acc: 0.9874 - val_loss: 0.2842 - val_acc: 0.9351\n",
      "Epoch 52/100\n",
      "60000/60000 [==============================] - 9s 144us/step - loss: 0.0353 - acc: 0.9878 - val_loss: 0.3658 - val_acc: 0.9331\n",
      "Epoch 53/100\n",
      "60000/60000 [==============================] - 9s 143us/step - loss: 0.0370 - acc: 0.9869 - val_loss: 0.4826 - val_acc: 0.9314\n",
      "Epoch 54/100\n",
      "60000/60000 [==============================] - 9s 144us/step - loss: 0.0343 - acc: 0.9880 - val_loss: 0.3274 - val_acc: 0.9328\n",
      "Epoch 55/100\n",
      "60000/60000 [==============================] - 9s 143us/step - loss: 0.0328 - acc: 0.9883 - val_loss: 0.4820 - val_acc: 0.9296\n",
      "Epoch 56/100\n",
      "60000/60000 [==============================] - 9s 143us/step - loss: 0.0340 - acc: 0.9880 - val_loss: 0.2767 - val_acc: 0.9327\n",
      "Epoch 57/100\n",
      "60000/60000 [==============================] - 9s 144us/step - loss: 0.0341 - acc: 0.9880 - val_loss: 0.2925 - val_acc: 0.9304\n",
      "Epoch 58/100\n",
      "60000/60000 [==============================] - 9s 144us/step - loss: 0.0335 - acc: 0.9882 - val_loss: 0.4752 - val_acc: 0.9318\n",
      "Epoch 59/100\n",
      "60000/60000 [==============================] - 9s 143us/step - loss: 0.0336 - acc: 0.9886 - val_loss: 0.3032 - val_acc: 0.9321\n",
      "Epoch 60/100\n",
      "60000/60000 [==============================] - 9s 143us/step - loss: 0.0310 - acc: 0.9889 - val_loss: 0.3253 - val_acc: 0.9324\n",
      "Epoch 61/100\n",
      "60000/60000 [==============================] - 9s 145us/step - loss: 0.0321 - acc: 0.9892 - val_loss: 0.3680 - val_acc: 0.9309\n",
      "Epoch 62/100\n",
      "60000/60000 [==============================] - 9s 146us/step - loss: 0.0331 - acc: 0.9884 - val_loss: 0.2640 - val_acc: 0.9172\n",
      "Epoch 63/100\n",
      "60000/60000 [==============================] - 9s 143us/step - loss: 0.0292 - acc: 0.9895 - val_loss: 0.3536 - val_acc: 0.9327\n",
      "Epoch 64/100\n",
      "60000/60000 [==============================] - 9s 143us/step - loss: 0.0336 - acc: 0.9885 - val_loss: 0.3239 - val_acc: 0.9322\n",
      "Epoch 65/100\n",
      "60000/60000 [==============================] - 9s 144us/step - loss: 0.0311 - acc: 0.9898 - val_loss: 0.2598 - val_acc: 0.9249\n",
      "Epoch 66/100\n",
      "60000/60000 [==============================] - 9s 143us/step - loss: 0.0306 - acc: 0.9896 - val_loss: 0.3892 - val_acc: 0.9327\n",
      "Epoch 67/100\n",
      "60000/60000 [==============================] - 9s 143us/step - loss: 0.0292 - acc: 0.9901 - val_loss: 0.3618 - val_acc: 0.9339\n",
      "Epoch 68/100\n",
      "60000/60000 [==============================] - 9s 143us/step - loss: 0.0300 - acc: 0.9898 - val_loss: 0.2707 - val_acc: 0.9269\n",
      "Epoch 69/100\n",
      "60000/60000 [==============================] - 9s 144us/step - loss: 0.0295 - acc: 0.9895 - val_loss: 0.4928 - val_acc: 0.9331\n",
      "Epoch 70/100\n",
      "60000/60000 [==============================] - 9s 143us/step - loss: 0.0276 - acc: 0.9902 - val_loss: 0.3688 - val_acc: 0.9327\n",
      "Epoch 71/100\n",
      "60000/60000 [==============================] - 9s 145us/step - loss: 0.0272 - acc: 0.9907 - val_loss: 0.3638 - val_acc: 0.9324\n",
      "Epoch 72/100\n",
      "60000/60000 [==============================] - 9s 144us/step - loss: 0.0287 - acc: 0.9901 - val_loss: 0.4277 - val_acc: 0.9318\n",
      "Epoch 73/100\n",
      "60000/60000 [==============================] - 9s 143us/step - loss: 0.0296 - acc: 0.9901 - val_loss: 0.3582 - val_acc: 0.9326\n",
      "Epoch 74/100\n",
      "60000/60000 [==============================] - 9s 143us/step - loss: 0.0276 - acc: 0.9904 - val_loss: 0.3459 - val_acc: 0.9289\n",
      "Epoch 75/100\n",
      "60000/60000 [==============================] - 9s 144us/step - loss: 0.0269 - acc: 0.9903 - val_loss: 0.2873 - val_acc: 0.9317\n",
      "Epoch 76/100\n",
      "60000/60000 [==============================] - 9s 143us/step - loss: 0.0292 - acc: 0.9899 - val_loss: 0.4299 - val_acc: 0.9346\n",
      "Epoch 77/100\n",
      "60000/60000 [==============================] - 9s 143us/step - loss: 0.0267 - acc: 0.9910 - val_loss: 0.3170 - val_acc: 0.9335\n",
      "Epoch 78/100\n",
      "60000/60000 [==============================] - 9s 143us/step - loss: 0.0259 - acc: 0.9914 - val_loss: 0.5572 - val_acc: 0.9326\n",
      "Epoch 79/100\n",
      "60000/60000 [==============================] - 9s 143us/step - loss: 0.0273 - acc: 0.9906 - val_loss: 0.3302 - val_acc: 0.9335\n",
      "Epoch 80/100\n",
      "60000/60000 [==============================] - 9s 144us/step - loss: 0.0280 - acc: 0.9904 - val_loss: 0.3866 - val_acc: 0.9346\n",
      "Epoch 81/100\n",
      "60000/60000 [==============================] - 9s 143us/step - loss: 0.0263 - acc: 0.9909 - val_loss: 0.4097 - val_acc: 0.9292\n",
      "Epoch 82/100\n",
      "60000/60000 [==============================] - 9s 143us/step - loss: 0.0258 - acc: 0.9914 - val_loss: 0.4045 - val_acc: 0.9347\n",
      "Epoch 83/100\n",
      "60000/60000 [==============================] - 9s 144us/step - loss: 0.0269 - acc: 0.9910 - val_loss: 0.2614 - val_acc: 0.9171\n",
      "Epoch 84/100\n",
      "60000/60000 [==============================] - 9s 143us/step - loss: 0.0269 - acc: 0.9910 - val_loss: 0.3079 - val_acc: 0.9313\n",
      "Epoch 85/100\n",
      "60000/60000 [==============================] - 9s 144us/step - loss: 0.0275 - acc: 0.9908 - val_loss: 0.4379 - val_acc: 0.9346\n",
      "Epoch 86/100\n",
      "60000/60000 [==============================] - 9s 143us/step - loss: 0.0264 - acc: 0.9913 - val_loss: 0.5257 - val_acc: 0.9310\n",
      "Epoch 87/100\n",
      "60000/60000 [==============================] - 9s 143us/step - loss: 0.0260 - acc: 0.9912 - val_loss: 0.5861 - val_acc: 0.9306\n",
      "Epoch 88/100\n",
      "60000/60000 [==============================] - 9s 144us/step - loss: 0.0259 - acc: 0.9908 - val_loss: 0.4513 - val_acc: 0.9349\n",
      "Epoch 89/100\n",
      "60000/60000 [==============================] - 9s 144us/step - loss: 0.0239 - acc: 0.9919 - val_loss: 0.2797 - val_acc: 0.9315\n",
      "Epoch 90/100\n",
      "60000/60000 [==============================] - 9s 144us/step - loss: 0.0248 - acc: 0.9917 - val_loss: 0.3395 - val_acc: 0.9341\n",
      "Epoch 91/100\n",
      "60000/60000 [==============================] - 9s 144us/step - loss: 0.0249 - acc: 0.9917 - val_loss: 0.5222 - val_acc: 0.9328\n",
      "Epoch 92/100\n",
      "60000/60000 [==============================] - 9s 143us/step - loss: 0.0244 - acc: 0.9913 - val_loss: 0.4732 - val_acc: 0.9331\n",
      "Epoch 93/100\n",
      "60000/60000 [==============================] - 9s 144us/step - loss: 0.0260 - acc: 0.9910 - val_loss: 0.4509 - val_acc: 0.9352\n",
      "Epoch 94/100\n",
      "60000/60000 [==============================] - 9s 143us/step - loss: 0.0234 - acc: 0.9923 - val_loss: 0.4486 - val_acc: 0.9352\n",
      "Epoch 95/100\n",
      "60000/60000 [==============================] - 9s 143us/step - loss: 0.0248 - acc: 0.9920 - val_loss: 0.4511 - val_acc: 0.9340\n",
      "Epoch 96/100\n",
      "60000/60000 [==============================] - 9s 144us/step - loss: 0.0234 - acc: 0.9919 - val_loss: 0.2790 - val_acc: 0.9164\n",
      "Epoch 97/100\n",
      "60000/60000 [==============================] - 9s 144us/step - loss: 0.0256 - acc: 0.9913 - val_loss: 0.4586 - val_acc: 0.9347\n",
      "Epoch 98/100\n",
      "60000/60000 [==============================] - 9s 146us/step - loss: 0.0229 - acc: 0.9916 - val_loss: 0.4937 - val_acc: 0.9345\n",
      "Epoch 99/100\n",
      "60000/60000 [==============================] - 9s 144us/step - loss: 0.0233 - acc: 0.9921 - val_loss: 0.3989 - val_acc: 0.9353\n",
      "Epoch 100/100\n",
      "60000/60000 [==============================] - 9s 144us/step - loss: 0.0233 - acc: 0.9918 - val_loss: 0.4631 - val_acc: 0.9324\n",
      "Test loss: 0.46314503292892184\n",
      "Test accuracy: 0.9324\n"
     ]
    }
   ],
   "source": [
    "model_fitting = model.fit(x_train, y_train,\n",
    "          batch_size=batch_size,\n",
    "          epochs=epochs,\n",
    "          verbose=1,\n",
    "          validation_data=(x_test, y_test))\n",
    "\n",
    "score = model.evaluate(x_test, y_test, verbose=0)\n",
    "print('Test loss:', score[0])\n",
    "print('Test accuracy:', score[1])"
   ]
  },
  {
   "cell_type": "code",
   "execution_count": 0,
   "metadata": {
    "colab": {
     "base_uri": "https://localhost:8080/",
     "height": 224
    },
    "colab_type": "code",
    "id": "TKJkwl69HW9P",
    "outputId": "2cc2a8c2-56b0-446b-dad3-a44b24fc0e5f"
   },
   "outputs": [
    {
     "name": "stdout",
     "output_type": "stream",
     "text": [
      "E: Package 'python-software-properties' has no installation candidate\n",
      "Selecting previously unselected package google-drive-ocamlfuse.\n",
      "(Reading database ... 145118 files and directories currently installed.)\n",
      "Preparing to unpack .../google-drive-ocamlfuse_0.7.17-0ubuntu2~ubuntu18.04.1_amd64.deb ...\n",
      "Unpacking google-drive-ocamlfuse (0.7.17-0ubuntu2~ubuntu18.04.1) ...\n",
      "Setting up google-drive-ocamlfuse (0.7.17-0ubuntu2~ubuntu18.04.1) ...\n",
      "Processing triggers for man-db (2.8.3-2ubuntu0.1) ...\n",
      "Please, open the following URL in a web browser: https://accounts.google.com/o/oauth2/auth?client_id=32555940559.apps.googleusercontent.com&redirect_uri=urn%3Aietf%3Awg%3Aoauth%3A2.0%3Aoob&scope=https%3A%2F%2Fwww.googleapis.com%2Fauth%2Fdrive&response_type=code&access_type=offline&approval_prompt=force\n",
      "··········\n",
      "Please, open the following URL in a web browser: https://accounts.google.com/o/oauth2/auth?client_id=32555940559.apps.googleusercontent.com&redirect_uri=urn%3Aietf%3Awg%3Aoauth%3A2.0%3Aoob&scope=https%3A%2F%2Fwww.googleapis.com%2Fauth%2Fdrive&response_type=code&access_type=offline&approval_prompt=force\n",
      "Please enter the verification code: Access token retrieved correctly.\n"
     ]
    }
   ],
   "source": [
    "# Configuration related preprocessing step before mounting the drive\n",
    "!apt-get install -y -qq software-properties-common python-software-properties module-init-tools\n",
    "!add-apt-repository -y ppa:alessandro-strada/ppa 2>&1 > /dev/null\n",
    "!apt-get update -qq 2>&1 > /dev/null\n",
    "!apt-get -y install -qq google-drive-ocamlfuse fuse\n",
    "from google.colab import auth\n",
    "auth.authenticate_user()\n",
    "from oauth2client.client import GoogleCredentials\n",
    "creds = GoogleCredentials.get_application_default()\n",
    "import getpass\n",
    "!google-drive-ocamlfuse -headless -id={creds.client_id} -secret={creds.client_secret} < /dev/null 2>&1 | grep URL\n",
    "vcode = getpass.getpass()\n",
    "!echo {vcode} | google-drive-ocamlfuse -headless -id={creds.client_id} -secret={creds.client_secret}"
   ]
  },
  {
   "cell_type": "code",
   "execution_count": 0,
   "metadata": {
    "colab": {
     "base_uri": "https://localhost:8080/",
     "height": 122
    },
    "colab_type": "code",
    "id": "lE9aiDjmHy76",
    "outputId": "ed2d28fc-c3c5-4b65-ab7b-fe7e3990f856"
   },
   "outputs": [
    {
     "name": "stdout",
     "output_type": "stream",
     "text": [
      "Go to this URL in a browser: https://accounts.google.com/o/oauth2/auth?client_id=947318989803-6bn6qk8qdgf4n4g3pfee6491hc0brc4i.apps.googleusercontent.com&redirect_uri=urn%3aietf%3awg%3aoauth%3a2.0%3aoob&response_type=code&scope=email%20https%3a%2f%2fwww.googleapis.com%2fauth%2fdocs.test%20https%3a%2f%2fwww.googleapis.com%2fauth%2fdrive%20https%3a%2f%2fwww.googleapis.com%2fauth%2fdrive.photos.readonly%20https%3a%2f%2fwww.googleapis.com%2fauth%2fpeopleapi.readonly\n",
      "\n",
      "Enter your authorization code:\n",
      "··········\n",
      "Mounted at /content/drive\n"
     ]
    }
   ],
   "source": [
    "#Mount the google drive\n",
    "from google.colab import drive\n",
    "drive.mount('/content/drive')"
   ]
  },
  {
   "cell_type": "code",
   "execution_count": 0,
   "metadata": {
    "colab": {},
    "colab_type": "code",
    "id": "3BDnAqerJc6s"
   },
   "outputs": [],
   "source": [
    "# Change the directory to current working directory\n",
    "import os\n",
    "os.chdir(\"/content/drive/My Drive/Youtube_Projects\")"
   ]
  },
  {
   "cell_type": "code",
   "execution_count": 0,
   "metadata": {
    "colab": {},
    "colab_type": "code",
    "id": "PmACEqXEYM96"
   },
   "outputs": [],
   "source": [
    "# Save the model with the name clothing_classification_model\n",
    "model.save('clothing_classification_model.h5')"
   ]
  },
  {
   "cell_type": "code",
   "execution_count": 0,
   "metadata": {
    "colab": {
     "base_uri": "https://localhost:8080/",
     "height": 85
    },
    "colab_type": "code",
    "id": "5NQr-s4FUuJ7",
    "outputId": "c802ebbe-dd1a-4631-e849-c52d4a4a7c69"
   },
   "outputs": [
    {
     "name": "stderr",
     "output_type": "stream",
     "text": [
      "/usr/local/lib/python3.6/dist-packages/keras_preprocessing/image/utils.py:104: UserWarning: grayscale is deprecated. Please use color_mode = \"grayscale\"\n",
      "  warnings.warn('grayscale is deprecated. Please use '\n"
     ]
    },
    {
     "name": "stdout",
     "output_type": "stream",
     "text": [
      "5\n",
      "Sandal\n"
     ]
    }
   ],
   "source": [
    "\n",
    "# Import few more necessary libraries.\n",
    "from keras.models import load_model\n",
    "from keras.preprocessing.image import load_img\n",
    "from keras.preprocessing.image import img_to_array\n",
    "\n",
    "# Function to load and prepare the image in right shape\n",
    "def load_image(filename):\n",
    "\t# Load the image\n",
    "\timg = load_img(filename, grayscale=True, target_size=(28, 28))\n",
    "\t# Convert the image to array\n",
    "\timg = img_to_array(img)\n",
    "\t# Reshape the image into a sample of 1 channel\n",
    "\timg = img.reshape(1, 28, 28, 1)\n",
    "\t# Prepare it as pixel data\n",
    "\timg = img.astype('float32')\n",
    "\timg = img / 255.0\n",
    "\treturn img\n",
    "\n",
    "# Load an image and predict the apparel class\n",
    "img = load_image('sandal.jpg')\n",
    "# Load the saved model\n",
    "model = load_model('clothing_classification_model.h5')\n",
    "# Predict the apparel class\n",
    "class_prediction = model.predict_classes(img)\n",
    "print(class_prediction[0])\n",
    "\n",
    "#Map apparel category with the numerical class\n",
    "if class_prediction[0] == 0:\n",
    "  product = \"T-shirt/top\"\n",
    "elif class_prediction[0] == 1:\n",
    "  product = \"Trouser\"\n",
    "elif class_prediction[0] == 2:\n",
    "  product = \"Pullover\"\n",
    "elif class_prediction[0] == 3:\n",
    "  product = \"Dress\"\n",
    "elif class_prediction[0] == 4:\n",
    "  product = \"Coat\"\n",
    "elif class_prediction[0] == 5:\n",
    "  product = \"Sandal\"\n",
    "elif class_prediction[0] == 6:\n",
    "  product = \"Shirt\"\n",
    "elif class_prediction[0] == 7:\n",
    "  product = \"Sneaker\"\n",
    "elif class_prediction[0] == 8:\n",
    "  product = \"Bag\"\n",
    "else:\n",
    "  product = \"Ankle boot\"\n",
    "\n",
    "print(product)\n"
   ]
  },
  {
   "cell_type": "code",
   "execution_count": 0,
   "metadata": {
    "colab": {},
    "colab_type": "code",
    "id": "pVSK19-OFm4m"
   },
   "outputs": [],
   "source": []
  },
  {
   "cell_type": "code",
   "execution_count": 0,
   "metadata": {
    "colab": {},
    "colab_type": "code",
    "id": "I7X24nIDFm4v"
   },
   "outputs": [],
   "source": []
  }
 ],
 "metadata": {
  "accelerator": "GPU",
  "colab": {
   "collapsed_sections": [],
   "name": "Clothing_Classification_CNN.ipynb",
   "provenance": []
  },
  "kernelspec": {
   "display_name": "Python 3",
   "language": "python",
   "name": "python3"
  },
  "language_info": {
   "codemirror_mode": {
    "name": "ipython",
    "version": 3
   },
   "file_extension": ".py",
   "mimetype": "text/x-python",
   "name": "python",
   "nbconvert_exporter": "python",
   "pygments_lexer": "ipython3",
   "version": "3.7.6"
  }
 },
 "nbformat": 4,
 "nbformat_minor": 1
}
